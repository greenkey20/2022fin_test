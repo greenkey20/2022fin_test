{
 "cells": [
  {
   "cell_type": "markdown",
   "metadata": {},
   "source": [
    "2022.8.19(금) 12h30\n",
    "# 자료형"
   ]
  },
  {
   "cell_type": "markdown",
   "metadata": {},
   "source": [
    "### 변수 (Variable)\n",
    "\n",
    "* 데이터, 값을 담는 상자\n",
    "* 메모리 상의 특정 주소(에 공간 할당/마련한 것 <- id(변수명))"
   ]
  },
  {
   "cell_type": "markdown",
   "metadata": {},
   "source": [
    "### 할당 연산자(Assignment Operator): `=`\n",
    "\n",
    "* 변수는 `=`을 통해 할당(assignment) 됩니다. "
   ]
  },
  {
   "cell_type": "markdown",
   "metadata": {},
   "source": [
    "### 동적 타이핑 (Dynamic Typing)\n",
    "\n",
    "* 파이썬은 실행할 때 자료형을 검사합니다.\n",
    "\n",
    "cf. algorithm 'dynamic programming'과는 구분"
   ]
  },
  {
   "cell_type": "code",
   "execution_count": null,
   "metadata": {},
   "outputs": [],
   "source": [
    "# 변수 x에 임의의 문자열을 할당해봅시다."
   ]
  },
  {
   "cell_type": "code",
   "execution_count": 3,
   "metadata": {},
   "outputs": [
    {
     "name": "stdout",
     "output_type": "stream",
     "text": [
      "hello Sesac\n"
     ]
    }
   ],
   "source": [
    "x = \"hello Sesac\"\n",
    "print(x)"
   ]
  },
  {
   "cell_type": "markdown",
   "metadata": {},
   "source": [
    "### 자료형 확인\n",
    "\n",
    "* 해당 데이터 타입을 확인하기 위해서는 `type()`을 활용합니다."
   ]
  },
  {
   "cell_type": "code",
   "execution_count": null,
   "metadata": {},
   "outputs": [],
   "source": [
    "# type()을 사용해 결과를 확인해봅시다."
   ]
  },
  {
   "cell_type": "code",
   "execution_count": 6,
   "metadata": {},
   "outputs": [
    {
     "data": {
      "text/plain": [
       "str"
      ]
     },
     "execution_count": 6,
     "metadata": {},
     "output_type": "execute_result"
    }
   ],
   "source": [
    "type(x)"
   ]
  },
  {
   "cell_type": "code",
   "execution_count": 8,
   "metadata": {},
   "outputs": [
    {
     "name": "stdout",
     "output_type": "stream",
     "text": [
      "<class 'str'>\n"
     ]
    }
   ],
   "source": [
    "print(type(x))"
   ]
  },
  {
   "cell_type": "markdown",
   "metadata": {},
   "source": [
    "### 메모리 주소 확인\n",
    "\n",
    "* 해당 값의 메모리 주소를 확인하기 위해서는 `id()`를 활용합니다."
   ]
  },
  {
   "cell_type": "code",
   "execution_count": null,
   "metadata": {},
   "outputs": [],
   "source": [
    "# id()를 사용해 결과를 확인해봅시다."
   ]
  },
  {
   "cell_type": "code",
   "execution_count": 4,
   "metadata": {},
   "outputs": [
    {
     "data": {
      "text/plain": [
       "140207643350192"
      ]
     },
     "execution_count": 4,
     "metadata": {},
     "output_type": "execute_result"
    }
   ],
   "source": [
    "id(x) # 컴퓨터마다 메모리 주소 다름"
   ]
  },
  {
   "cell_type": "code",
   "execution_count": null,
   "metadata": {},
   "outputs": [],
   "source": []
  },
  {
   "cell_type": "markdown",
   "metadata": {},
   "source": [
    "### 변수 동시 할당\n",
    "\n",
    "* 여러개의 변수를 동시에 할당할 수 있습니다."
   ]
  },
  {
   "cell_type": "code",
   "execution_count": null,
   "metadata": {},
   "outputs": [],
   "source": [
    "# 같은 값을 x와 y에 동시에 할당해봅시다.\n",
    "# 그리고 print를 이용하여 x, y 값을 확인해봅시다."
   ]
  },
  {
   "cell_type": "code",
   "execution_count": 15,
   "metadata": {},
   "outputs": [
    {
     "name": "stdout",
     "output_type": "stream",
     "text": [
      "x는  7\n",
      "y는  7\n"
     ]
    }
   ],
   "source": [
    "x = y = 7\n",
    "print(\"x는 \", x)\n",
    "print(\"y는 \", y)"
   ]
  },
  {
   "cell_type": "markdown",
   "metadata": {},
   "source": [
    "### 다른 값 동시 할당\n",
    "\n",
    "* 서로 다른 값을 각각의 변수에 할당할 수 있습니다."
   ]
  },
  {
   "cell_type": "code",
   "execution_count": null,
   "metadata": {},
   "outputs": [],
   "source": [
    "# 두 개의 변수 x, y 에 1, 2 값을 동시에 할당해봅시다.\n",
    "# 그리고 print를 이용하여 x, y 값을 확인해봅시다."
   ]
  },
  {
   "cell_type": "code",
   "execution_count": 12,
   "metadata": {},
   "outputs": [
    {
     "name": "stdout",
     "output_type": "stream",
     "text": [
      "1 2\n"
     ]
    }
   ],
   "source": [
    "# x = 1\n",
    "# y = 2\n",
    "\n",
    "x, y = 1, 2\n",
    "\n",
    "print(x, y)"
   ]
  },
  {
   "cell_type": "code",
   "execution_count": null,
   "metadata": {},
   "outputs": [],
   "source": [
    "# 두 개의 변수 x, y에 값 1을 할당해봅시다.\n",
    "# 두 개의 변수에 하나의 값을 넣었을때의 오류를 확인해봅시다."
   ]
  },
  {
   "cell_type": "code",
   "execution_count": 13,
   "metadata": {},
   "outputs": [
    {
     "ename": "TypeError",
     "evalue": "cannot unpack non-iterable int object",
     "output_type": "error",
     "traceback": [
      "\u001b[0;31m---------------------------------------------------------------------------\u001b[0m",
      "\u001b[0;31mTypeError\u001b[0m                                 Traceback (most recent call last)",
      "\u001b[1;32m/Users/greenpianorabbit/Local Documents/finworkspace/2_0_자료형_변수.ipynb Cell 22\u001b[0m in \u001b[0;36m<cell line: 1>\u001b[0;34m()\u001b[0m\n\u001b[0;32m----> <a href='vscode-notebook-cell:/Users/greenpianorabbit/Local%20Documents/finworkspace/2_0_%EC%9E%90%EB%A3%8C%ED%98%95_%EB%B3%80%EC%88%98.ipynb#X26sZmlsZQ%3D%3D?line=0'>1</a>\u001b[0m x, y \u001b[39m=\u001b[39m \u001b[39m1\u001b[39m\n",
      "\u001b[0;31mTypeError\u001b[0m: cannot unpack non-iterable int object"
     ]
    }
   ],
   "source": [
    "x, y = 1 # TypeError: cannot unpack(포장을 풀다) non-iterable int object(Python에서 모든 것은 객체) 1이라는 값 1개를 2개로 나눌 수 없으니까.."
   ]
  },
  {
   "cell_type": "code",
   "execution_count": null,
   "metadata": {},
   "outputs": [],
   "source": [
    "# 두 개의 변수 x, y에 값 1, 2, 3 을 동시에 할당해 봅시다.\n",
    "# 두 개의 변수에 세 개의 값을 넣었을때의 오류를 확인해 봅시다."
   ]
  },
  {
   "cell_type": "code",
   "execution_count": 16,
   "metadata": {},
   "outputs": [
    {
     "ename": "ValueError",
     "evalue": "too many values to unpack (expected 2)",
     "output_type": "error",
     "traceback": [
      "\u001b[0;31m---------------------------------------------------------------------------\u001b[0m",
      "\u001b[0;31mValueError\u001b[0m                                Traceback (most recent call last)",
      "\u001b[1;32m/Users/greenpianorabbit/Local Documents/finworkspace/2_0_자료형_변수.ipynb Cell 24\u001b[0m in \u001b[0;36m<cell line: 1>\u001b[0;34m()\u001b[0m\n\u001b[0;32m----> <a href='vscode-notebook-cell:/Users/greenpianorabbit/Local%20Documents/finworkspace/2_0_%EC%9E%90%EB%A3%8C%ED%98%95_%EB%B3%80%EC%88%98.ipynb#X31sZmlsZQ%3D%3D?line=0'>1</a>\u001b[0m x, y \u001b[39m=\u001b[39m \u001b[39m1\u001b[39m, \u001b[39m2\u001b[39m, \u001b[39m3\u001b[39m\n",
      "\u001b[0;31mValueError\u001b[0m: too many values to unpack (expected 2)"
     ]
    }
   ],
   "source": [
    "x, y = 1, 2, 3 # ValueError: too many values to unpack (expected 2) 풀긴 풀어서 3개라는 것은 아는데, 너무 많다"
   ]
  },
  {
   "cell_type": "markdown",
   "metadata": {},
   "source": [
    "### 응용\n",
    "\n",
    "* 이를 활용하면 서로 값을 바꾸고 싶은 경우 아래와 같이 활용 가능합니다."
   ]
  },
  {
   "cell_type": "code",
   "execution_count": null,
   "metadata": {},
   "outputs": [],
   "source": [
    "# 변수 x와 y의 값을 바꿔봅시다.\n",
    "# 그리고 결과를 print를 이용해 확인해봅시다."
   ]
  },
  {
   "cell_type": "code",
   "execution_count": null,
   "metadata": {},
   "outputs": [],
   "source": [
    "# 1) tmp 변수 활용"
   ]
  },
  {
   "cell_type": "code",
   "execution_count": 18,
   "metadata": {},
   "outputs": [],
   "source": [
    "x, y = 5, 2"
   ]
  },
  {
   "cell_type": "code",
   "execution_count": 19,
   "metadata": {},
   "outputs": [],
   "source": [
    "temp = x # temp(orary) = 임시 변수 -> 임시 변수에 x의 값을 미리 넣어줌"
   ]
  },
  {
   "cell_type": "code",
   "execution_count": 20,
   "metadata": {},
   "outputs": [],
   "source": [
    "x = y # x에 우선 y의 값을 넣어줌"
   ]
  },
  {
   "cell_type": "code",
   "execution_count": 21,
   "metadata": {},
   "outputs": [],
   "source": [
    "y = temp # temp의 값을 마지막으로 y에 넣어줌"
   ]
  },
  {
   "cell_type": "code",
   "execution_count": 22,
   "metadata": {},
   "outputs": [
    {
     "name": "stdout",
     "output_type": "stream",
     "text": [
      "2 5\n"
     ]
    }
   ],
   "source": [
    "print(x, y)"
   ]
  },
  {
   "cell_type": "code",
   "execution_count": null,
   "metadata": {},
   "outputs": [],
   "source": [
    "# 2) python 방식 = 아래와 같이 간단하게 작성해도, 내부적으로 작업해서 값 교환하는 것임"
   ]
  },
  {
   "cell_type": "code",
   "execution_count": 23,
   "metadata": {},
   "outputs": [],
   "source": [
    "x, y = y, x"
   ]
  },
  {
   "cell_type": "code",
   "execution_count": 24,
   "metadata": {},
   "outputs": [
    {
     "name": "stdout",
     "output_type": "stream",
     "text": [
      "5 2\n"
     ]
    }
   ],
   "source": [
    "print(x, y)"
   ]
  },
  {
   "cell_type": "markdown",
   "metadata": {},
   "source": [
    "### 식별자(Identifiers)\n",
    "\n",
    "파이썬에서 식별자는 변수, 함수, 모듈, 클래스 등을 식별하는데 사용되는 이름(name)입니다. \n",
    "\n",
    "* 식별자의 이름은 영문알파벳(대문자와 소문자), 언더스코어(_), 숫자로 구성됩니다.\n",
    "* 첫 글자에 숫자가 올 수 없습니다.\n",
    "* 길이에 제한이 없습니다.\n",
    "* 대소문자(case)를 구별합니다.\n",
    "* 아래의 키워드는 사용할 수 없습니다. [파이썬 문서](https://docs.python.org/ko/3/reference/lexical_analysis.html#keywords)\n",
    "\n",
    "```\n",
    "False, None, True, and, as, assert, async, await, break, class, continue, def, del, elif, else, except, finally, for, from, global, if, import, in, is, lambda, nonlocal, not, or, pass, raise, return, try, while, with, yield\n",
    "```"
   ]
  },
  {
   "cell_type": "code",
   "execution_count": null,
   "metadata": {},
   "outputs": [],
   "source": [
    "# 키워드들을 직접 확인해봅시다."
   ]
  },
  {
   "cell_type": "code",
   "execution_count": 25,
   "metadata": {},
   "outputs": [
    {
     "data": {
      "text/plain": [
       "False"
      ]
     },
     "execution_count": 25,
     "metadata": {},
     "output_type": "execute_result"
    }
   ],
   "source": [
    "False"
   ]
  },
  {
   "cell_type": "code",
   "execution_count": 26,
   "metadata": {},
   "outputs": [],
   "source": [
    "None # 아무 것도 없는 값"
   ]
  },
  {
   "cell_type": "code",
   "execution_count": 27,
   "metadata": {},
   "outputs": [
    {
     "data": {
      "text/plain": [
       "5"
      ]
     },
     "execution_count": 27,
     "metadata": {},
     "output_type": "execute_result"
    }
   ],
   "source": [
    "3 and 5"
   ]
  },
  {
   "cell_type": "code",
   "execution_count": 29,
   "metadata": {},
   "outputs": [
    {
     "data": {
      "text/plain": [
       "False"
      ]
     },
     "execution_count": 29,
     "metadata": {},
     "output_type": "execute_result"
    }
   ],
   "source": [
    "3 and False"
   ]
  },
  {
   "cell_type": "code",
   "execution_count": 28,
   "metadata": {},
   "outputs": [
    {
     "data": {
      "text/plain": [
       "3"
      ]
     },
     "execution_count": 28,
     "metadata": {},
     "output_type": "execute_result"
    }
   ],
   "source": [
    "False or 3"
   ]
  },
  {
   "cell_type": "code",
   "execution_count": 37,
   "metadata": {},
   "outputs": [
    {
     "name": "stdout",
     "output_type": "stream",
     "text": [
      "['False', 'None', 'True', 'and', 'as', 'assert', 'async', 'await', 'break', 'class', 'continue', 'def', 'del', 'elif', 'else', 'except', 'finally', 'for', 'from', 'global', 'if', 'import', 'in', 'is', 'lambda', 'nonlocal', 'not', 'or', 'pass', 'raise', 'return', 'try', 'while', 'with', 'yield']\n"
     ]
    }
   ],
   "source": [
    "# import 구문은 모듈파트에서 다시 알아봅시다.\n",
    "import keyword\n",
    "print(keyword.kwlist) # 사전식 정렬"
   ]
  },
  {
   "cell_type": "markdown",
   "metadata": {},
   "source": [
    "*  내장함수나 모듈 등의 이름으로도 만들면 안됩니다."
   ]
  },
  {
   "cell_type": "code",
   "execution_count": null,
   "metadata": {},
   "outputs": [],
   "source": [
    "# 내장함수의 이름을 사용하면 어떤일이 일어나는지 확인해봅시다."
   ]
  },
  {
   "cell_type": "code",
   "execution_count": null,
   "metadata": {},
   "outputs": [],
   "source": [
    "# print는 값을 출력해주는 내장함수(Built-in function)입니다.\n",
    "print(5)"
   ]
  },
  {
   "cell_type": "code",
   "execution_count": 31,
   "metadata": {},
   "outputs": [
    {
     "ename": "TypeError",
     "evalue": "'str' object is not callable",
     "output_type": "error",
     "traceback": [
      "\u001b[0;31m---------------------------------------------------------------------------\u001b[0m",
      "\u001b[0;31mTypeError\u001b[0m                                 Traceback (most recent call last)",
      "\u001b[1;32m/Users/greenpianorabbit/Local Documents/finworkspace/2_0_자료형_변수.ipynb Cell 51\u001b[0m in \u001b[0;36m<cell line: 5>\u001b[0;34m()\u001b[0m\n\u001b[1;32m      <a href='vscode-notebook-cell:/Users/greenpianorabbit/Local%20Documents/finworkspace/2_0_%EC%9E%90%EB%A3%8C%ED%98%95_%EB%B3%80%EC%88%98.ipynb#X51sZmlsZQ%3D%3D?line=0'>1</a>\u001b[0m \u001b[39m# 예시로 변수명을 print라하고 문자열 'hi'를 할당해봅시다. \u001b[39;00m\n\u001b[1;32m      <a href='vscode-notebook-cell:/Users/greenpianorabbit/Local%20Documents/finworkspace/2_0_%EC%9E%90%EB%A3%8C%ED%98%95_%EB%B3%80%EC%88%98.ipynb#X51sZmlsZQ%3D%3D?line=1'>2</a>\u001b[0m \u001b[39m# 그리고 print() 를 사용하고 오류를 확인해봅시다.\u001b[39;00m\n\u001b[1;32m      <a href='vscode-notebook-cell:/Users/greenpianorabbit/Local%20Documents/finworkspace/2_0_%EC%9E%90%EB%A3%8C%ED%98%95_%EB%B3%80%EC%88%98.ipynb#X51sZmlsZQ%3D%3D?line=2'>3</a>\u001b[0m \u001b[39m# print은 이제 'hi'라는 값으로 할당(=는 할당/assignment 연산자)되었기 때문에 이전의 화면 출력 기능을 수행하지 못합니다.\u001b[39;00m\n\u001b[1;32m      <a href='vscode-notebook-cell:/Users/greenpianorabbit/Local%20Documents/finworkspace/2_0_%EC%9E%90%EB%A3%8C%ED%98%95_%EB%B3%80%EC%88%98.ipynb#X51sZmlsZQ%3D%3D?line=3'>4</a>\u001b[0m \u001b[39mprint\u001b[39m \u001b[39m=\u001b[39m \u001b[39m'\u001b[39m\u001b[39mhi\u001b[39m\u001b[39m'\u001b[39m\n\u001b[0;32m----> <a href='vscode-notebook-cell:/Users/greenpianorabbit/Local%20Documents/finworkspace/2_0_%EC%9E%90%EB%A3%8C%ED%98%95_%EB%B3%80%EC%88%98.ipynb#X51sZmlsZQ%3D%3D?line=4'>5</a>\u001b[0m \u001b[39mprint\u001b[39;49m(\u001b[39m5\u001b[39;49m)\n",
      "\u001b[0;31mTypeError\u001b[0m: 'str' object is not callable"
     ]
    }
   ],
   "source": [
    "# 예시로 변수명을 print라하고 문자열 'hi'를 할당해봅시다 -> print에는 'hi'가 담겨있음\n",
    "# 그리고 print() 를 사용하고 오류를 확인해봅시다.\n",
    "# print은 이제 'hi'라는 값으로 할당(=는 할당/assignment 연산자)되었기 때문에 이전의 화면 출력 기능을 수행하지 못합니다.\n",
    "print = 'hi'\n",
    "print(5) # 'str' object is not callable"
   ]
  },
  {
   "cell_type": "code",
   "execution_count": 33,
   "metadata": {},
   "outputs": [
    {
     "data": {
      "text/plain": [
       "str"
      ]
     },
     "execution_count": 33,
     "metadata": {},
     "output_type": "execute_result"
    }
   ],
   "source": [
    "type(print) # str"
   ]
  },
  {
   "cell_type": "code",
   "execution_count": 35,
   "metadata": {},
   "outputs": [],
   "source": [
    "# 뒤에서 진행될 코드에 영향이 갈 수 있기 때문에 방금 생성한 print 변수를 삭제합니다 <- 함수 del 사용\n",
    "# 이렇게 하면 변수 print 는 삭제되고 화면출력의 print는 사용가능 합니다.\n",
    "# 자세한 내용은 namespace 파트에서 확인해봅시다.\n",
    "del print"
   ]
  },
  {
   "cell_type": "code",
   "execution_count": 38,
   "metadata": {},
   "outputs": [
    {
     "name": "stdout",
     "output_type": "stream",
     "text": [
      "hello\n"
     ]
    }
   ],
   "source": [
    "print('hello')"
   ]
  },
  {
   "cell_type": "markdown",
   "metadata": {},
   "source": [
    "### `None` 타입\n",
    "\n",
    "파이썬에서는 값이 없음을 표현하기 위해 `None` 타입이 존재합니다.\n",
    "파이썬에서는 모든 것이 객체 -> None도 객체"
   ]
  },
  {
   "cell_type": "code",
   "execution_count": null,
   "metadata": {},
   "outputs": [],
   "source": [
    "# None의 타입을 알아봅시다."
   ]
  },
  {
   "cell_type": "code",
   "execution_count": 39,
   "metadata": {},
   "outputs": [
    {
     "name": "stdout",
     "output_type": "stream",
     "text": [
      "<class 'NoneType'>\n"
     ]
    }
   ],
   "source": [
    "print(type(None)) # <class 'NoneType'>"
   ]
  },
  {
   "cell_type": "code",
   "execution_count": null,
   "metadata": {},
   "outputs": [],
   "source": [
    "# 변수에 저장해서 확인해봅시다.\n",
    "# 변수 a에 None을 할당하고 출력해봅시다."
   ]
  },
  {
   "cell_type": "code",
   "execution_count": 40,
   "metadata": {},
   "outputs": [
    {
     "name": "stdout",
     "output_type": "stream",
     "text": [
      "None\n"
     ]
    }
   ],
   "source": [
    "a = None\n",
    "print(a) # None"
   ]
  },
  {
   "cell_type": "markdown",
   "metadata": {},
   "source": [
    "* 참고) 함수의 return"
   ]
  },
  {
   "cell_type": "code",
   "execution_count": 41,
   "metadata": {},
   "outputs": [],
   "source": [
    "def my_sum(a, b):\n",
    "    print(a + b)"
   ]
  },
  {
   "cell_type": "code",
   "execution_count": 42,
   "metadata": {},
   "outputs": [
    {
     "name": "stdout",
     "output_type": "stream",
     "text": [
      "3\n",
      "None\n"
     ]
    }
   ],
   "source": [
    "ans = my_sum(1, 2)\n",
    "print(ans) # 함수 my_sum에는 return/반환 값이 없는 바, None"
   ]
  },
  {
   "cell_type": "code",
   "execution_count": 47,
   "metadata": {},
   "outputs": [],
   "source": [
    "def my_sum(a, b):\n",
    "    sum = a + b\n",
    "    print(sum)\n",
    "    return sum # 강사님 필기 못 봄"
   ]
  },
  {
   "cell_type": "code",
   "execution_count": 48,
   "metadata": {},
   "outputs": [
    {
     "name": "stdout",
     "output_type": "stream",
     "text": [
      "3\n",
      "3\n"
     ]
    }
   ],
   "source": [
    "ans = my_sum(1, 2)\n",
    "print(ans)"
   ]
  },
  {
   "cell_type": "markdown",
   "metadata": {},
   "source": [
    "## 형변환(Type conversion, Typecasting)\n",
    "\n",
    "파이썬에서 데이터타입은 서로 변환할 수 있습니다.\n",
    "\n",
    "- 암시적 형변환\n",
    "- 명시적 형변환"
   ]
  },
  {
   "cell_type": "markdown",
   "metadata": {},
   "source": [
    "### 암시적 형변환(Implicit Type Conversion/casting)\n",
    "\n",
    "사용자가 의도하지 않았지만, 파이썬 내부적으로 자동으로 형변환 하는 경우입니다.\n",
    "아래의 상황에서만 가능합니다.\n",
    "* bool\n",
    "* Numbers (int, float, complex)"
   ]
  },
  {
   "cell_type": "code",
   "execution_count": null,
   "metadata": {},
   "outputs": [],
   "source": [
    "# boolean과 integer는 더할 수 있을까요?\n",
    "# True와 임의의 정수를 더해봅시다."
   ]
  },
  {
   "cell_type": "code",
   "execution_count": 49,
   "metadata": {},
   "outputs": [
    {
     "data": {
      "text/plain": [
       "-1"
      ]
     },
     "execution_count": 49,
     "metadata": {},
     "output_type": "execute_result"
    }
   ],
   "source": [
    "True + (-2) # True는 암시적으로 1이라고 파이썬에서 형 변환해줌"
   ]
  },
  {
   "cell_type": "code",
   "execution_count": 50,
   "metadata": {},
   "outputs": [
    {
     "data": {
      "text/plain": [
       "-2"
      ]
     },
     "execution_count": 50,
     "metadata": {},
     "output_type": "execute_result"
    }
   ],
   "source": [
    "False + (-2) # False는 0; 기계는 0 또는 1만 앎"
   ]
  },
  {
   "cell_type": "code",
   "execution_count": 51,
   "metadata": {},
   "outputs": [
    {
     "data": {
      "text/plain": [
       "1"
      ]
     },
     "execution_count": 51,
     "metadata": {},
     "output_type": "execute_result"
    }
   ],
   "source": [
    "True + False"
   ]
  },
  {
   "cell_type": "code",
   "execution_count": null,
   "metadata": {},
   "outputs": [],
   "source": [
    "# int, float, complex를 각각 변수에 대입해봅시다.\n",
    "# 변수 int_number 에 정수를 할당해봅시다.\n",
    "# 변수 float_numbe 에 실수를 할당해봅시다.\n",
    "# 변수 complex_number 에 복소수(실수부/real + 허수부/imaginary)를 할당해봅시다."
   ]
  },
  {
   "cell_type": "code",
   "execution_count": 52,
   "metadata": {},
   "outputs": [],
   "source": [
    "int_number = 7\n",
    "float_number = 4.444\n",
    "complex_number = 1 + 5j"
   ]
  },
  {
   "cell_type": "code",
   "execution_count": null,
   "metadata": {},
   "outputs": [],
   "source": [
    "# int와 float를 더해봅시다. 그리고 값을 출력해봅시다.\n",
    "# 그 결과의 type은 무엇일까요? float(실수)"
   ]
  },
  {
   "cell_type": "code",
   "execution_count": 53,
   "metadata": {},
   "outputs": [
    {
     "data": {
      "text/plain": [
       "11.443999999999999"
      ]
     },
     "execution_count": 53,
     "metadata": {},
     "output_type": "execute_result"
    }
   ],
   "source": [
    "int_number + float_number"
   ]
  },
  {
   "cell_type": "code",
   "execution_count": 54,
   "metadata": {},
   "outputs": [
    {
     "data": {
      "text/plain": [
       "float"
      ]
     },
     "execution_count": 54,
     "metadata": {},
     "output_type": "execute_result"
    }
   ],
   "source": [
    "type(int_number + float_number)"
   ]
  },
  {
   "cell_type": "code",
   "execution_count": null,
   "metadata": {},
   "outputs": [],
   "source": [
    "# int와 complex를 더해봅시다. 그리고 값을 출력해봅시다.\n",
    "# 그 결과의 type은 무엇일까요?"
   ]
  },
  {
   "cell_type": "code",
   "execution_count": 55,
   "metadata": {},
   "outputs": [
    {
     "data": {
      "text/plain": [
       "(8+5j)"
      ]
     },
     "execution_count": 55,
     "metadata": {},
     "output_type": "execute_result"
    }
   ],
   "source": [
    "int_number + complex_number"
   ]
  },
  {
   "cell_type": "code",
   "execution_count": 56,
   "metadata": {},
   "outputs": [
    {
     "data": {
      "text/plain": [
       "complex"
      ]
     },
     "execution_count": 56,
     "metadata": {},
     "output_type": "execute_result"
    }
   ],
   "source": [
    "type(int_number + complex_number)"
   ]
  },
  {
   "cell_type": "markdown",
   "metadata": {},
   "source": [
    "### 명시적 형변환(Explicit Type Conversion)\n",
    "위의 상황을 제외하고는 모두 명시적으로 형변환을 해주어야합니다.\n",
    "\n",
    "* string -> intger  : 형식에 맞는 숫자만 가능\n",
    "* integer -> string : 모두 가능\n",
    "\n",
    "암시적 형변환이 되는 모든 경우도 명시적으로 형변환이 가능합니다.\n",
    "\n",
    "* `int()` : string, float를 int로 변환\n",
    "* `float()` : string, int를 float로 변환\n",
    "* `str()` : int, float, list, tuple, dictionary를 문자열로 변환\n",
    "\n",
    "`list()`, `tuple()` 등은 다음 챕터에서 배울 예정입니다."
   ]
  },
  {
   "cell_type": "code",
   "execution_count": null,
   "metadata": {},
   "outputs": [],
   "source": [
    "# integer와 string 사이의 관계는 명시적으로 형변환을 해줘야만 합니다."
   ]
  },
  {
   "cell_type": "code",
   "execution_count": null,
   "metadata": {},
   "outputs": [],
   "source": [
    "# 정수와 문자열을 그냥 더해보고 오류를 확인해봅시다."
   ]
  },
  {
   "cell_type": "code",
   "execution_count": 58,
   "metadata": {},
   "outputs": [
    {
     "ename": "TypeError",
     "evalue": "unsupported operand type(s) for +: 'int' and 'str'",
     "output_type": "error",
     "traceback": [
      "\u001b[0;31m---------------------------------------------------------------------------\u001b[0m",
      "\u001b[0;31mTypeError\u001b[0m                                 Traceback (most recent call last)",
      "\u001b[1;32m/Users/greenpianorabbit/Local Documents/finworkspace/2_0_자료형_변수.ipynb Cell 78\u001b[0m in \u001b[0;36m<cell line: 1>\u001b[0;34m()\u001b[0m\n\u001b[0;32m----> <a href='vscode-notebook-cell:/Users/greenpianorabbit/Local%20Documents/finworkspace/2_0_%EC%9E%90%EB%A3%8C%ED%98%95_%EB%B3%80%EC%88%98.ipynb#Y114sZmlsZQ%3D%3D?line=0'>1</a>\u001b[0m \u001b[39m5\u001b[39;49m \u001b[39m+\u001b[39;49m \u001b[39m'\u001b[39;49m\u001b[39m3\u001b[39;49m\u001b[39m'\u001b[39;49m\n",
      "\u001b[0;31mTypeError\u001b[0m: unsupported operand type(s) for +: 'int' and 'str'"
     ]
    }
   ],
   "source": [
    "5 + '3' # TypeError: unsupported operand type(s) for +: 'int' and 'str'"
   ]
  },
  {
   "cell_type": "code",
   "execution_count": null,
   "metadata": {},
   "outputs": [],
   "source": []
  },
  {
   "cell_type": "code",
   "execution_count": null,
   "metadata": {},
   "outputs": [],
   "source": []
  },
  {
   "cell_type": "code",
   "execution_count": null,
   "metadata": {},
   "outputs": [],
   "source": [
    "# 정수를 문자열로 형변환하고 문자열과 더해봅시다 -> '문자열 + 문자열' 시 '+'는 concat/연결"
   ]
  },
  {
   "cell_type": "code",
   "execution_count": 60,
   "metadata": {},
   "outputs": [
    {
     "data": {
      "text/plain": [
       "'53'"
      ]
     },
     "execution_count": 60,
     "metadata": {},
     "output_type": "execute_result"
    }
   ],
   "source": [
    "str(5) + '3'"
   ]
  },
  {
   "cell_type": "code",
   "execution_count": null,
   "metadata": {},
   "outputs": [],
   "source": []
  },
  {
   "cell_type": "code",
   "execution_count": null,
   "metadata": {},
   "outputs": [],
   "source": [
    "# 변수 a에 string 3을 할당하고 integer로 변환해봅시다."
   ]
  },
  {
   "cell_type": "code",
   "execution_count": 65,
   "metadata": {},
   "outputs": [
    {
     "data": {
      "text/plain": [
       "3"
      ]
     },
     "execution_count": 65,
     "metadata": {},
     "output_type": "execute_result"
    }
   ],
   "source": [
    "aStr = '3'\n",
    "int(aStr)"
   ]
  },
  {
   "cell_type": "code",
   "execution_count": 63,
   "metadata": {},
   "outputs": [
    {
     "data": {
      "text/plain": [
       "str"
      ]
     },
     "execution_count": 63,
     "metadata": {},
     "output_type": "execute_result"
    }
   ],
   "source": [
    "type(aStr)"
   ]
  },
  {
   "cell_type": "code",
   "execution_count": null,
   "metadata": {},
   "outputs": [],
   "source": [
    "# 변수 a에 string 3.5를 할당하고 float로 변환해봅시다."
   ]
  },
  {
   "cell_type": "code",
   "execution_count": null,
   "metadata": {},
   "outputs": [],
   "source": [
    "# 강사님 코드 못 봄"
   ]
  },
  {
   "cell_type": "code",
   "execution_count": null,
   "metadata": {},
   "outputs": [],
   "source": [
    "# string은 글자가 숫자일때만 형변환이 가능합니다.\n",
    "# 변수 a에 문자열 'hi'를 할당하고 integer로 변환해봅시다."
   ]
  },
  {
   "cell_type": "code",
   "execution_count": null,
   "metadata": {},
   "outputs": [],
   "source": [
    "# 강사님 코드 못 봄"
   ]
  },
  {
   "cell_type": "code",
   "execution_count": null,
   "metadata": {},
   "outputs": [],
   "source": [
    "# string 3.5를 int로 변환할 수는 없습니다.\n",
    "# 변수 a에 string 3.5를 저장하고 integer로 변환하고 오류를 확인해봅시다."
   ]
  },
  {
   "cell_type": "code",
   "execution_count": null,
   "metadata": {},
   "outputs": [],
   "source": [
    "# 강사님 코드 못 봄"
   ]
  },
  {
   "cell_type": "code",
   "execution_count": null,
   "metadata": {},
   "outputs": [],
   "source": [
    "# float 3.5는 int로 변환이 가능합니다.\n",
    "# 변수 a에 실수 3.5를 저장하고 integer로 변환해봅시다 -> 소수점 이하 자료 소실됨"
   ]
  },
  {
   "cell_type": "code",
   "execution_count": null,
   "metadata": {},
   "outputs": [],
   "source": []
  },
  {
   "cell_type": "markdown",
   "metadata": {},
   "source": [
    "# 정리\n",
    "\n",
    "## 변수(Variable)와 자료형(Data Type)\n",
    "\n",
    "<center><img width=800 height=400 src=\"https://user-images.githubusercontent.com/9452521/87640197-55a7f280-c781-11ea-9cff-19c022ce704a.png\", alt=\"variable\"/></center>\n",
    "\n",
    "위 이미지에서\n",
    "- area 값 계산 시 연산자 우선순위 = * < **(거듭제곱)\n",
    "- is_number의 type = str(x) int(o)\n",
    "- is_smaller 값 계산 시, 비교 연산자 < 사용 -> is_smaller에 저장된 값 = False\n",
    "- 문자열에 * 연산자 사용 = 문자열 반복 -> 단, TypeError: can't multiply sequence by non-int of type 'float'\n"
   ]
  },
  {
   "cell_type": "code",
   "execution_count": 69,
   "metadata": {},
   "outputs": [
    {
     "name": "stdout",
     "output_type": "stream",
     "text": [
      "Bye!!!\n"
     ]
    }
   ],
   "source": [
    "# greeting = 'Bye' + '!' * 3.2\n",
    "greeting = 'Bye' + '!' * 3\n",
    "print(greeting)"
   ]
  }
 ],
 "metadata": {
  "kernelspec": {
   "display_name": "Python 3.10.4 ('study')",
   "language": "python",
   "name": "python3"
  },
  "language_info": {
   "codemirror_mode": {
    "name": "ipython",
    "version": 3
   },
   "file_extension": ".py",
   "mimetype": "text/x-python",
   "name": "python",
   "nbconvert_exporter": "python",
   "pygments_lexer": "ipython3",
   "version": "3.10.4"
  },
  "vscode": {
   "interpreter": {
    "hash": "1fd3140b0dc4db19511ef03efffaabd9fa01e3ed50c363ea4d9f8596fa9f6f10"
   }
  }
 },
 "nbformat": 4,
 "nbformat_minor": 2
}
